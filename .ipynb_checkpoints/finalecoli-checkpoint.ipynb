{
 "cells": [
  {
   "cell_type": "code",
   "execution_count": 8,
   "metadata": {},
   "outputs": [],
   "source": [
    "import random\n",
    "import math\n",
    "import operator\n",
    "import csv\n",
    "import sys\n",
    "import pandas as pd \n",
    "from collections import Counter\n",
    "\n",
    "#Unweighted K N N\n",
    "\n",
    "def train(filename, split, training=[] , testing=[]):\n",
    "\n",
    "\n",
    "\t#opens csv file and converts to list\n",
    "\twith open(filename, 'rb') as file:\n",
    "\t    lines = csv.reader(file)\n",
    "\t    dataList = list(lines)\n",
    "\t    numAttributes = len(dataList[0]) - 1\n",
    "\n",
    "\t    #goes through all data in list\n",
    "\t    for x in range(len(dataList)-1):\n",
    "\t    \t#converts the attributes to a floating point\n",
    "\t        for y in range(numAttributes):\n",
    "\t            dataList[x][y] = float(dataList[x][y])\n",
    "\n",
    "\t        #seperates a part of the data to be training and to be testing\n",
    "\t        if random.random() < split:\n",
    "\t            training.append(dataList[x])\n",
    "\t        else:\n",
    "\t            testing.append(dataList[x])\n",
    "def calculateAccuracy(prediction, testedSet):\n",
    "\t\n",
    "\t#total is the number of correct predictions\n",
    "\ttotal = 0\n",
    "\n",
    "\taccuracy = 0.0\n",
    "\n",
    "\t#Goes through the predictions and compares it with the label of the set\n",
    "\tfor i in range(len(testedSet)):\n",
    "\t\tif (prediction[i] == testedSet[i][-1]):\n",
    "\t\t\ttotal = total + 1\n",
    "\n",
    "\t#accuracy is total correct / total \n",
    "\taccuracy = (float(total) / float(len(testedSet)))\n",
    "\taccuracy = accuracy * 100\n",
    "\treturn accuracy\n",
    "\n",
    "def getUnweightedDistance(point1, point2, l):\n",
    "\t\n",
    "\t#This allows the calucation of distance in numAttributes'th space\n",
    "\tdistance = 0.0\n",
    "\n",
    "\tfor i in range(l):\n",
    "\t\tdistance += pow((point1[i] - point2[i]), 2)\n",
    "\n",
    "\tdistance = math.sqrt(distance)\n",
    "\n",
    "\treturn distance\n",
    "\n",
    "def classify(testedSet, point, k):\n",
    "\t#classifies a point\n",
    "\n",
    "\t#stores a list of distances\n",
    "\teuclideanDistance = []\n",
    "\tneighbors = []\n",
    "\ttargets = []\n",
    "\tattributes = len(point) - 1\n",
    "\tfor i in range(len(testedSet)):\n",
    "\t\t#adds each point of the tested set with the point\n",
    "\t\td = getUnweightedDistance(point, testedSet[i], attributes)\n",
    "\t\teuclideanDistance.append((testedSet[i], d))\n",
    "\n",
    "\t#sorts the distances so shortest is front\n",
    "\teuclideanDistance.sort(key=operator.itemgetter(1))\n",
    "\n",
    "\t#puts only k shortest distances in neighbors\n",
    "\tfor j in range(k):\n",
    "\t\tneighbors.append(euclideanDistance[j][0])\n",
    "\n",
    "\tfor k in range(len(neighbors)):\n",
    "\t\ttargets.append(neighbors[k][-1])\n",
    "\n",
    "\tvoted = Counter(targets).most_common(1)[0][0]\n",
    "\treturn voted\n",
    "\n",
    "\n",
    "def main():\n",
    "\ttraining = []\n",
    "\ttesting = []\n",
    "\tpredictions = []\n",
    "\tkFoldPercent = 0.90\n",
    "\ttotalAccuracy = 0.0\n",
    "\ttotalTests = 10\n",
    "\tk = 7\n",
    "\t\n",
    "\n",
    "\t#Tests a range of different neighbors\n",
    "\tfor k in range(1, 11):\n",
    "\t\tprint(repr(k) + ' nearest neighbors')\n",
    "\n",
    "\n",
    "\t\t#Does totalTests number of tests for an averge\n",
    "\t\tfor x in range(0, totalTests):\n",
    "\n",
    "\t\t\t#trains and tests with a new fold in data everytime for good measures\n",
    "\t\t\ttrain('newecolicopy.data', kFoldPercent, training, testing)\n",
    "\n",
    "\t\t\t#for each data in testing, classify it and measure accuracy\n",
    "\t\t\tfor i in range(len(testing)):\n",
    "\t\t\t\tresult = classify(training, testing[i], k)\n",
    "\t\t\t\tpredictions.append(result)\n",
    "\t\t\taccuracy = calculateAccuracy(predictions, testing)\n",
    "\t\t\ttotalAccuracy += accuracy\n",
    "\n",
    "\n",
    "\t\t\t#resets the data for another fold\n",
    "\t\t\tdel result\n",
    "\t\t\tdel predictions[:]\n",
    "\t\t\tdel training[:]\n",
    "\t\t\tdel testing[:]\n",
    "\n",
    "\t\t\taccuracy = 0\n",
    "\t\ttotalAccuracy = totalAccuracy / totalTests\n",
    "\t\tprint('Testing Accuracy: ' + repr(totalAccuracy) + '%')\n",
    "\n",
    "\t\ttotalAccuracy = 0\n",
    "\n",
    "\t\t#Does totalTests number of tests for an averge\n",
    "\t\tfor x in range(0, totalTests):\n",
    "\n",
    "\t\t\ttrain('newecolicopy.data', kFoldPercent, training, testing)\n",
    "\n",
    "\t\t\tfor i in range(len(training)):\n",
    "\t\t\t\t#only use the training data\n",
    "\t\t\t\tresult = classify(training, training[i], k)\n",
    "\t\t\t\tpredictions.append(result)\n",
    "\t\t\taccuracy = calculateAccuracy(predictions, training)\n",
    "\t\t\ttotalAccuracy += accuracy\n",
    "\n",
    "\t\t\tdel result\n",
    "\t\t\tdel predictions[:]\n",
    "\t\t\tdel training[:]\n",
    "\t\t\tdel testing[:]\n",
    "\n",
    "\t\t\taccuracy = 0\n",
    "\t\ttotalAccuracy = totalAccuracy / totalTests\n",
    "\t\tprint('Training Accuracy: ' + repr(totalAccuracy) + '%\\n')\n",
    "\n",
    "\t\ttotalAccuracy = 0"
   ]
  },
  {
   "cell_type": "code",
   "execution_count": 9,
   "metadata": {},
   "outputs": [
    {
     "name": "stdout",
     "output_type": "stream",
     "text": [
      "1 nearest neighbors\n",
      "Testing Accuracy: 79.06290644221679%\n",
      "Training Accuracy: 100.0%\n",
      "\n",
      "2 nearest neighbors\n",
      "Testing Accuracy: 79.7885447885448%\n",
      "Training Accuracy: 87.02931345603585%\n",
      "\n",
      "3 nearest neighbors\n",
      "Testing Accuracy: 85.55486635975319%\n",
      "Training Accuracy: 90.17469255748973%\n",
      "\n",
      "4 nearest neighbors\n",
      "Testing Accuracy: 86.39832647572585%\n",
      "Training Accuracy: 86.86127614368056%\n",
      "\n",
      "5 nearest neighbors\n",
      "Testing Accuracy: 90.05302541746545%\n",
      "Training Accuracy: 88.67087780234206%\n",
      "\n",
      "6 nearest neighbors\n",
      "Testing Accuracy: 86.88124094420945%\n",
      "Training Accuracy: 87.58001943467151%\n",
      "\n",
      "7 nearest neighbors\n",
      "Testing Accuracy: 88.14594246132066%\n",
      "Training Accuracy: 89.20260193923933%\n",
      "\n",
      "8 nearest neighbors\n",
      "Testing Accuracy: 87.88334205743794%\n",
      "Training Accuracy: 88.51599044812141%\n",
      "\n",
      "9 nearest neighbors\n",
      "Testing Accuracy: 87.6452530827743%\n",
      "Training Accuracy: 87.79107054011281%\n",
      "\n",
      "10 nearest neighbors\n",
      "Testing Accuracy: 83.20613851048353%\n",
      "Training Accuracy: 87.9730725939046%\n",
      "\n"
     ]
    }
   ],
   "source": [
    "main()"
   ]
  },
  {
   "cell_type": "code",
   "execution_count": 3,
   "metadata": {},
   "outputs": [],
   "source": [
    "import matplotlib.pyplot as plt\n",
    "%matplotlib inline"
   ]
  },
  {
   "cell_type": "code",
   "execution_count": 4,
   "metadata": {},
   "outputs": [],
   "source": [
    "error_rate = []\n",
    "\n",
    "# Will take some time\n",
    "for i in range(1,40):\n",
    "    trainingSet = []\n",
    "    testSet = []\n",
    "    split = 0.67\n",
    "    train('newecolicopy.data', split, trainingSet, testSet)\n",
    "    #print ('Train set: ' + repr(len(trainingSet)))\n",
    "    #print ('Test set: ' + repr(len(testSet)))\n",
    "    predictions = []\n",
    "    for j in range (len(testSet)):\n",
    "        result = classify(trainingSet, testSet[j], i)\n",
    "        predictions.append(result)\n",
    "    accuracy = calculateAccuracy(predictions, testSet)\n",
    "    error_rate.append(100-accuracy)\n",
    "    #error_rate.append(np.mean(predictions != y_test))"
   ]
  },
  {
   "cell_type": "code",
   "execution_count": 5,
   "metadata": {},
   "outputs": [
    {
     "data": {
      "text/plain": [
       "Text(0,0.5,u'Error Rate %')"
      ]
     },
     "execution_count": 5,
     "metadata": {},
     "output_type": "execute_result"
    },
    {
     "data": {
      "image/png": "[encoded data removed]",
      "text/plain": [
       "<matplotlib.figure.Figure at 0x109d94390>"
      ]
     },
     "metadata": {},
     "output_type": "display_data"
    }
   ],
   "source": [
    "plt.figure(figsize=(10,6))\n",
    "plt.plot(range(1,40),error_rate,color='blue', linestyle='dashed', marker='o',\n",
    "         markerfacecolor='red', markersize=10)\n",
    "plt.title('Error Rate vs. K Value')\n",
    "plt.xlabel('K')\n",
    "plt.ylabel('Error Rate %')"
   ]
  },
  {
   "cell_type": "code",
   "execution_count": null,
   "metadata": {},
   "outputs": [],
   "source": []
  },
  {
   "cell_type": "code",
   "execution_count": null,
   "metadata": {},
   "outputs": [],
   "source": []
  },
  {
   "cell_type": "code",
   "execution_count": null,
   "metadata": {},
   "outputs": [],
   "source": []
  },
  {
   "cell_type": "code",
   "execution_count": 1,
   "metadata": {},
   "outputs": [],
   "source": [
    "import random\n",
    "import math\n",
    "import operator\n",
    "import csv\n",
    "import sys\n",
    "import pandas as pd \n",
    "from collections import Counter\n",
    "\n",
    "def train(filename, split, training=[] , testing=[]):\n",
    "\n",
    "\n",
    "\t#opens csv file and converts to list\n",
    "\twith open(filename, 'rb') as file:\n",
    "\t    lines = csv.reader(file)\n",
    "\t    dataList = list(lines)\n",
    "\t    numAttributes = len(dataList[0]) - 1\n",
    "\n",
    "\t    #goes through all data in list\n",
    "\t    for x in range(len(dataList)-1):\n",
    "\t    \t#converts the attributes to a floating point\n",
    "\t        for y in range(numAttributes):\n",
    "\t            dataList[x][y] = float(dataList[x][y])\n",
    "\n",
    "\t        #seperates a part of the data to be training and to be testing\n",
    "\t        if random.random() < split:\n",
    "\t            training.append(dataList[x])\n",
    "\t        else:\n",
    "\t            testing.append(dataList[x])\n",
    "def calculateAccuracy(prediction, testedSet):\n",
    "\t\n",
    "\t#total is the number of correct predictions\n",
    "\ttotal = 0\n",
    "\n",
    "\taccuracy = 0.0\n",
    "\n",
    "\t#Goes through the predictions and compares it with the label of the set\n",
    "\tfor i in range(len(testedSet)):\n",
    "\t\tif (prediction[i] == testedSet[i][-1]):\n",
    "\t\t\ttotal = total + 1\n",
    "\n",
    "\t#accuracy is total correct / total \n",
    "\taccuracy = (float(total) / float(len(testedSet)))\n",
    "\taccuracy = accuracy * 100\n",
    "\treturn accuracy\n",
    "\n",
    "def getUnweightedDistance(point1, point2, l):\n",
    "\t\n",
    "\t#This allows the calucation of distance in numAttributes'th space\n",
    "\tdistance = 0.0\n",
    "\n",
    "\tfor i in range(l):\n",
    "\t\tdistance += pow((point1[i] - point2[i]), 2)\n",
    "\n",
    "\tdistance = math.sqrt(distance)\n",
    "\n",
    "\treturn distance\n",
    "\n",
    "def distance(neighborset,testset):\n",
    "    dist = 1\n",
    "    for x in range(len(neighborset)-1):\n",
    "        dist += abs(neighborset[x] - testset[x])\n",
    "    #print (dist)    \n",
    "    return 1/dist\n",
    "\n",
    "def classify(testedSet, point, k):\n",
    "\t#classifies a point\n",
    "\n",
    "\t#stores a list of distances\n",
    "\teuclideanDistance = []\n",
    "\tneighbors = []\n",
    "\ttargets = []\n",
    "\tattributes = len(point) - 1\n",
    "\tfor i in range(len(testedSet)):\n",
    "\t\t#adds each point of the tested set with the point\n",
    "\t\td = getUnweightedDistance(point, testedSet[i], attributes)\n",
    "\t\teuclideanDistance.append((testedSet[i], d))\n",
    "\n",
    "\t#sorts the distances so shortest is front\n",
    "\teuclideanDistance.sort(key=operator.itemgetter(1))\n",
    "\n",
    "\t#puts only k shortest distances in neighbors\n",
    "\tfor j in range(k):\n",
    "\t\tneighbors.append(euclideanDistance[j][0])\n",
    "\n",
    "\tclassVotes = {}\n",
    "\tfor i in range(len(neighbors)):\n",
    "\t\tresponse = neighbors[i][-1]\n",
    "        #You need some way to define the weight here to decide the weight of each response\n",
    "\t\tweight = distance(neighbors[i],point)\n",
    "\t\tif response in classVotes:\n",
    "\t\t\tclassVotes[response] += weight #changed 1 to weight\n",
    "\t\telse:\n",
    "\t\t\tclassVotes[response] = weight #changed 1 to weight\n",
    "\tsortedVotes = sorted(classVotes.items(), key=operator.itemgetter(1), reverse=True)\n",
    "\treturn sortedVotes[0][0]\n",
    "\n",
    "def main():\n",
    "\ttraining = []\n",
    "\ttesting = []\n",
    "\tpredictions = []\n",
    "\tkFoldPercent = 0.90\n",
    "\ttotalAccuracy = 0.0\n",
    "\ttotalTests = 10\n",
    "\tk = 7\n",
    "\t\n",
    "\n",
    "\t#Tests a range of different neighbors\n",
    "\tfor k in range(1, 11):\n",
    "\t\tprint(repr(k) + ' nearest neighbors')\n",
    "\n",
    "\n",
    "\t\t#Does totalTests number of tests for an averge\n",
    "\t\tfor x in range(0, totalTests):\n",
    "\n",
    "\t\t\t#trains and tests with a new fold in data everytime for good measures\n",
    "\t\t\ttrain('newecolicopy.data', kFoldPercent, training, testing)\n",
    "\n",
    "\t\t\t#for each data in testing, classify it and measure accuracy\n",
    "\t\t\tfor i in range(len(testing)):\n",
    "\t\t\t\tresult = classify(training, testing[i], k)\n",
    "\t\t\t\tpredictions.append(result)\n",
    "\t\t\taccuracy = calculateAccuracy(predictions, testing)\n",
    "\t\t\ttotalAccuracy += accuracy\n",
    "\n",
    "\n",
    "\t\t\t#resets the data for another fold\n",
    "\t\t\tdel result\n",
    "\t\t\tdel predictions[:]\n",
    "\t\t\tdel training[:]\n",
    "\t\t\tdel testing[:]\n",
    "\n",
    "\t\t\taccuracy = 0\n",
    "\t\ttotalAccuracy = totalAccuracy / totalTests\n",
    "\t\tprint('Testing Accuracy: ' + repr(totalAccuracy) + '%')\n",
    "\n",
    "\t\ttotalAccuracy = 0\n",
    "\n",
    "\t\t#Does totalTests number of tests for an averge\n",
    "\t\tfor x in range(0, totalTests):\n",
    "\n",
    "\t\t\ttrain('newecolicopy.data', kFoldPercent, training, testing)\n",
    "\n",
    "\t\t\tfor i in range(len(training)):\n",
    "\t\t\t\t#only use the training data\n",
    "\t\t\t\tresult = classify(training, training[i], k)\n",
    "\t\t\t\tpredictions.append(result)\n",
    "\t\t\taccuracy = calculateAccuracy(predictions, training)\n",
    "\t\t\ttotalAccuracy += accuracy\n",
    "\n",
    "\t\t\tdel result\n",
    "\t\t\tdel predictions[:]\n",
    "\t\t\tdel training[:]\n",
    "\t\t\tdel testing[:]\n",
    "\n",
    "\t\t\taccuracy = 0\n",
    "\t\ttotalAccuracy = totalAccuracy / totalTests\n",
    "\t\tprint('Training Accuracy: ' + repr(totalAccuracy) + '%\\n')\n",
    "\n",
    "\t\ttotalAccuracy = 0\n",
    " "
   ]
  },
  {
   "cell_type": "code",
   "execution_count": 2,
   "metadata": {},
   "outputs": [
    {
     "name": "stdout",
     "output_type": "stream",
     "text": [
      "1 nearest neighbors\n",
      "Testing Accuracy: 78.5824617949618%\n",
      "Training Accuracy: 100.0%\n",
      "\n",
      "2 nearest neighbors\n",
      "Testing Accuracy: 80.45353504022859%\n",
      "Training Accuracy: 100.0%\n",
      "\n",
      "3 nearest neighbors\n",
      "Testing Accuracy: 87.96564275791602%\n",
      "Training Accuracy: 92.18226453700595%\n",
      "\n",
      "4 nearest neighbors\n",
      "Testing Accuracy: 85.30036721525367%\n",
      "Training Accuracy: 92.99486317777064%\n",
      "\n",
      "5 nearest neighbors\n",
      "Testing Accuracy: 90.58210267378064%\n",
      "Training Accuracy: 90.5215182548989%\n",
      "\n",
      "6 nearest neighbors\n",
      "Testing Accuracy: 83.37342615568423%\n",
      "Training Accuracy: 91.61206723516514%\n",
      "\n",
      "7 nearest neighbors\n",
      "Testing Accuracy: 86.46569688206195%\n",
      "Training Accuracy: 90.85259000577547%\n",
      "\n",
      "8 nearest neighbors\n",
      "Testing Accuracy: 87.79922526891673%\n",
      "Training Accuracy: 90.41440415001149%\n",
      "\n",
      "9 nearest neighbors\n",
      "Testing Accuracy: 85.9572868097375%\n",
      "Training Accuracy: 89.567690548946%\n",
      "\n",
      "10 nearest neighbors\n",
      "Testing Accuracy: 85.54741499269237%\n",
      "Training Accuracy: 88.87003020665215%\n",
      "\n"
     ]
    }
   ],
   "source": [
    "main()"
   ]
  },
  {
   "cell_type": "code",
   "execution_count": 3,
   "metadata": {},
   "outputs": [],
   "source": [
    "import matplotlib.pyplot as plt\n",
    "%matplotlib inline"
   ]
  },
  {
   "cell_type": "code",
   "execution_count": 4,
   "metadata": {},
   "outputs": [],
   "source": [
    "error_rate = []\n",
    "\n",
    "# Will take some time\n",
    "for i in range(1,40):\n",
    "    trainingSet = []\n",
    "    testSet = []\n",
    "    split = 0.67\n",
    "    train('newecolicopy.data', split, trainingSet, testSet)\n",
    "    #print ('Train set: ' + repr(len(trainingSet)))\n",
    "    #print ('Test set: ' + repr(len(testSet)))\n",
    "    predictions = []\n",
    "    for j in range (len(testSet)):\n",
    "        result = classify(trainingSet, testSet[j], i)\n",
    "        predictions.append(result)\n",
    "    accuracy = calculateAccuracy(predictions, testSet)\n",
    "    error_rate.append(100-accuracy)\n",
    "    #error_rate.append(np.mean(predictions != y_test))"
   ]
  },
  {
   "cell_type": "code",
   "execution_count": 5,
   "metadata": {},
   "outputs": [
    {
     "data": {
      "text/plain": [
       "Text(0,0.5,u'Error Rate %')"
      ]
     },
     "execution_count": 5,
     "metadata": {},
     "output_type": "execute_result"
    },
    {
     "data": {
      "image/png": "[encoded data removed]",
      "text/plain": [
       "<matplotlib.figure.Figure at 0x109d902d0>"
      ]
     },
     "metadata": {},
     "output_type": "display_data"
    }
   ],
   "source": [
    "plt.figure(figsize=(10,6))\n",
    "plt.plot(range(1,40),error_rate,color='blue', linestyle='dashed', marker='o',\n",
    "         markerfacecolor='red', markersize=10)\n",
    "plt.title('Error Rate vs. K Value')\n",
    "plt.xlabel('K')\n",
    "plt.ylabel('Error Rate %')"
   ]
  },
  {
   "cell_type": "code",
   "execution_count": null,
   "metadata": {},
   "outputs": [],
   "source": []
  },
  {
   "cell_type": "code",
   "execution_count": null,
   "metadata": {},
   "outputs": [],
   "source": []
  },
  {
   "cell_type": "code",
   "execution_count": null,
   "metadata": {},
   "outputs": [],
   "source": []
  },
  {
   "cell_type": "code",
   "execution_count": null,
   "metadata": {},
   "outputs": [],
   "source": []
  },
  {
   "cell_type": "code",
   "execution_count": null,
   "metadata": {
    "collapsed": true
   },
   "outputs": [],
   "source": []
  },
  {
   "cell_type": "code",
   "execution_count": null,
   "metadata": {},
   "outputs": [],
   "source": []
  },
  {
   "cell_type": "code",
   "execution_count": null,
   "metadata": {
    "collapsed": true
   },
   "outputs": [],
   "source": []
  },
  {
   "cell_type": "code",
   "execution_count": null,
   "metadata": {
    "collapsed": true
   },
   "outputs": [],
   "source": []
  },
  {
   "cell_type": "code",
   "execution_count": null,
   "metadata": {
    "collapsed": true
   },
   "outputs": [],
   "source": []
  },
  {
   "cell_type": "code",
   "execution_count": null,
   "metadata": {
    "collapsed": true
   },
   "outputs": [],
   "source": []
  },
  {
   "cell_type": "code",
   "execution_count": 334,
   "metadata": {},
   "outputs": [],
   "source": [
    "import csv\n",
    "import random\n",
    "import math\n",
    "import operator\n",
    "\n",
    "from sklearn.metrics import classification_report,confusion_matrix\n",
    "\n",
    "def loadDataset(filename, split, trainingSet=[] , testSet=[]):\n",
    "\twith open(filename, 'r') as csvfile:\n",
    "\t    lines = csv.reader(csvfile)\n",
    "\t    dataset = list(lines)\n",
    "\t    for x in range(len(dataset)-1):\n",
    "\t        for y in range(4):\n",
    "\t            dataset[x][y] = float(dataset[x][y])\n",
    "\t        if random.random() < split:\n",
    "\t            trainingSet.append(dataset[x])\n",
    "\t        else:\n",
    "\t            testSet.append(dataset[x])"
   ]
  },
  {
   "cell_type": "code",
   "execution_count": 335,
   "metadata": {
    "collapsed": true
   },
   "outputs": [],
   "source": [
    "def euclideanDistance(instance1, instance2, length):\n",
    "\tdistance = 0\n",
    "\tfor x in range(length):\n",
    "\t\tdistance += pow((instance1[x] - instance2[x]), 2)\n",
    "\treturn math.sqrt(distance)"
   ]
  },
  {
   "cell_type": "code",
   "execution_count": 336,
   "metadata": {
    "collapsed": true
   },
   "outputs": [],
   "source": [
    "def getNeighbors(trainingSet, testInstance, k):\n",
    "\tdistances = []\n",
    "\tlength = len(testInstance)-1\n",
    "\tfor x in range(len(trainingSet)):\n",
    "\t\tdist = euclideanDistance(testInstance, trainingSet[x], length)\n",
    "\t\tdistances.append((trainingSet[x], dist))\n",
    "\tdistances.sort(key=operator.itemgetter(1))\n",
    "\tneighbors = []\n",
    "\tfor x in range(k):\n",
    "\t\tneighbors.append(distances[x][0])\n",
    "\treturn neighbors\n",
    " "
   ]
  },
  {
   "cell_type": "code",
   "execution_count": 337,
   "metadata": {
    "collapsed": true
   },
   "outputs": [],
   "source": [
    "\n",
    "def getResponse(neighbors):\n",
    "\tclassVotes = {}\n",
    "\tfor x in range(len(neighbors)):\n",
    "\t\tresponse = neighbors[x][-1]\n",
    "\t\tif response in classVotes:\n",
    "\t\t\tclassVotes[response] += 1 #changed 1 to weight\n",
    "\t\telse:\n",
    "\t\t\tclassVotes[response] = 1 #changed 1 to weight\n",
    "\tsortedVotes = sorted(classVotes.items(), key=operator.itemgetter(1), reverse=True)\n",
    "\treturn sortedVotes[0][0]"
   ]
  },
  {
   "cell_type": "code",
   "execution_count": 338,
   "metadata": {
    "collapsed": true
   },
   "outputs": [],
   "source": [
    "def getAccuracy(testSet, predictions):\n",
    "\tcorrect = 0\n",
    "\tfor x in range(len(testSet)):\n",
    "\t\tif testSet[x][-1] == predictions[x]:\n",
    "\t\t\tcorrect += 1\n",
    "\treturn (correct/float(len(testSet))) * 100.0"
   ]
  },
  {
   "cell_type": "code",
   "execution_count": 339,
   "metadata": {
    "collapsed": true
   },
   "outputs": [],
   "source": [
    "def main():\n",
    "    # prepare data\n",
    "    trainingSet=[]\n",
    "    testSet=[]\n",
    "    split = 0.67\n",
    "    loadDataset('iris.data', split, trainingSet, testSet)\n",
    "    print ('Train set: ' + repr(len(trainingSet)))\n",
    "    print ('Test set: ' + repr(len(testSet)))\n",
    "    # generate predictions\n",
    "    predictions=[]\n",
    "    trueResult=[]#added\n",
    "    k = 2\n",
    "    for x in range(len(testSet)):\n",
    "        neighbors = getNeighbors(trainingSet, testSet[x], k)\n",
    "        result = getResponse(neighbors)\n",
    "        predictions.append(result)\n",
    "        trueResult.append(testSet[x][-1])\n",
    "        #print('> predicted=' + repr(result) + ', actual=' + repr(testSet[x][-1]))\n",
    "    accuracy = getAccuracy(testSet, predictions)\n",
    "    print('Accuracy: ' + repr(accuracy) + '%')\n",
    "    print(confusion_matrix(trueResult,predictions))\n",
    "    print('\\n')\n",
    "    print(classification_report(trueResult,predictions))"
   ]
  },
  {
   "cell_type": "code",
   "execution_count": 340,
   "metadata": {},
   "outputs": [
    {
     "name": "stdout",
     "output_type": "stream",
     "text": [
      "Train set: 98\n",
      "Test set: 51\n",
      "Accuracy: 96.07843137254902%\n",
      "[[14  0  0]\n",
      " [ 0 19  2]\n",
      " [ 0  0 16]]\n",
      "\n",
      "\n",
      "                 precision    recall  f1-score   support\n",
      "\n",
      "    Iris-setosa       1.00      1.00      1.00        14\n",
      "Iris-versicolor       1.00      0.90      0.95        21\n",
      " Iris-virginica       0.89      1.00      0.94        16\n",
      "\n",
      "    avg / total       0.97      0.96      0.96        51\n",
      "\n"
     ]
    }
   ],
   "source": [
    "main()"
   ]
  },
  {
   "cell_type": "code",
   "execution_count": 341,
   "metadata": {},
   "outputs": [],
   "source": [
    "error_rate = []\n",
    "\n",
    "# Will take some time\n",
    "for i in range(1,40):\n",
    "    trainingSet = []\n",
    "    testSet = []\n",
    "    split = 0.67\n",
    "    loadDataset('iris.data', split, trainingSet, testSet)\n",
    "    #print ('Train set: ' + repr(len(trainingSet)))\n",
    "    #print ('Test set: ' + repr(len(testSet)))\n",
    "    predictions = []\n",
    "    for j in range (len(testSet)):\n",
    "        neighbors = getNeighbors(trainingSet, testSet[j], i)\n",
    "        result = getResponse(neighbors)\n",
    "        predictions.append(result)\n",
    "    accuracy = getAccuracy(testSet, predictions)\n",
    "    error_rate.append(100-accuracy)\n",
    "    #error_rate.append(np.mean(predictions != y_test))"
   ]
  },
  {
   "cell_type": "code",
   "execution_count": null,
   "metadata": {
    "collapsed": true
   },
   "outputs": [],
   "source": []
  },
  {
   "cell_type": "code",
   "execution_count": 342,
   "metadata": {},
   "outputs": [
    {
     "data": {
      "text/plain": [
       "<matplotlib.text.Text at 0x117d4d8d0>"
      ]
     },
     "execution_count": 342,
     "metadata": {},
     "output_type": "execute_result"
    },
    {
     "data": {
      "image/png": "[encoded data removed]",
      "text/plain": [
       "<matplotlib.figure.Figure at 0x117ef8e80>"
      ]
     },
     "metadata": {},
     "output_type": "display_data"
    }
   ],
   "source": [
    "plt.figure(figsize=(10,6))\n",
    "plt.plot(range(1,40),error_rate,color='blue', linestyle='dashed', marker='o',\n",
    "         markerfacecolor='red', markersize=10)\n",
    "plt.title('Error Rate vs. K Value')\n",
    "plt.xlabel('K')\n",
    "plt.ylabel('Error Rate')"
   ]
  },
  {
   "cell_type": "code",
   "execution_count": null,
   "metadata": {},
   "outputs": [],
   "source": []
  },
  {
   "cell_type": "code",
   "execution_count": 308,
   "metadata": {},
   "outputs": [],
   "source": [
    "import pandas as pd\n",
    "import seaborn as sns\n",
    "import matplotlib.pyplot as plt\n",
    "import numpy as np\n",
    "%matplotlib inline"
   ]
  },
  {
   "cell_type": "code",
   "execution_count": 312,
   "metadata": {},
   "outputs": [],
   "source": [
    "df = pd.read_csv(\"iris2.data\")"
   ]
  },
  {
   "cell_type": "code",
   "execution_count": 313,
   "metadata": {},
   "outputs": [],
   "source": [
    "from sklearn.preprocessing import StandardScaler\n",
    "scaler = StandardScaler()"
   ]
  },
  {
   "cell_type": "code",
   "execution_count": 314,
   "metadata": {},
   "outputs": [],
   "source": [
    "scaler.fit(df.drop('TARGET CLASS',axis=1))\n",
    "scaled_features = scaler.transform(df.drop('TARGET CLASS',axis=1))\n",
    "df_feat = pd.DataFrame(scaled_features,columns=df.columns[:-1])"
   ]
  },
  {
   "cell_type": "code",
   "execution_count": 316,
   "metadata": {
    "collapsed": true
   },
   "outputs": [],
   "source": [
    "from sklearn.model_selection import train_test_split\n",
    "X_train, X_test, y_train, y_test = train_test_split(scaled_features,df['TARGET CLASS'],\n",
    "                                                    test_size=0.30)"
   ]
  },
  {
   "cell_type": "code",
   "execution_count": 86,
   "metadata": {
    "collapsed": true
   },
   "outputs": [],
   "source": []
  },
  {
   "cell_type": "code",
   "execution_count": 317,
   "metadata": {},
   "outputs": [],
   "source": [
    "from sklearn.neighbors import KNeighborsClassifier\n",
    "knn = KNeighborsClassifier(n_neighbors=1)\n",
    "knn.fit(X_train,y_train)\n",
    "pred = knn.predict(X_test)\n",
    "\n"
   ]
  },
  {
   "cell_type": "code",
   "execution_count": 76,
   "metadata": {},
   "outputs": [],
   "source": [
    "from sklearn.metrics import classification_report,confusion_matrix\n"
   ]
  },
  {
   "cell_type": "code",
   "execution_count": 320,
   "metadata": {},
   "outputs": [
    {
     "name": "stdout",
     "output_type": "stream",
     "text": [
      "[[17  1  0]\n",
      " [ 0 14  1]\n",
      " [ 0  0 12]]\n",
      "\n",
      "\n",
      "                 precision    recall  f1-score   support\n",
      "\n",
      "    Iris-setosa       1.00      0.94      0.97        18\n",
      "Iris-versicolor       0.93      0.93      0.93        15\n",
      " Iris-virginica       0.92      1.00      0.96        12\n",
      "\n",
      "    avg / total       0.96      0.96      0.96        45\n",
      "\n"
     ]
    }
   ],
   "source": [
    "print(confusion_matrix(y_test,pred))\n",
    "print('\\n')\n",
    "print(classification_report(y_test,pred))"
   ]
  },
  {
   "cell_type": "code",
   "execution_count": null,
   "metadata": {},
   "outputs": [],
   "source": []
  },
  {
   "cell_type": "code",
   "execution_count": 321,
   "metadata": {
    "collapsed": true
   },
   "outputs": [],
   "source": [
    "error_rate = []\n",
    "\n",
    "# Will take some time\n",
    "for i in range(1,40):\n",
    "    \n",
    "    knn = KNeighborsClassifier(n_neighbors=i)\n",
    "    knn.fit(X_train,y_train)\n",
    "    pred_i = knn.predict(X_test)\n",
    "    error_rate.append(np.mean(pred_i != y_test))"
   ]
  },
  {
   "cell_type": "code",
   "execution_count": 322,
   "metadata": {},
   "outputs": [
    {
     "data": {
      "text/plain": [
       "<matplotlib.text.Text at 0x117d0c198>"
      ]
     },
     "execution_count": 322,
     "metadata": {},
     "output_type": "execute_result"
    },
    {
     "data": {
      "image/png": "[encoded data removed]",
      "text/plain": [
       "<matplotlib.figure.Figure at 0x117cf6048>"
      ]
     },
     "metadata": {},
     "output_type": "display_data"
    }
   ],
   "source": [
    "plt.figure(figsize=(10,6))\n",
    "plt.plot(range(1,40),error_rate,color='blue', linestyle='dashed', marker='o',\n",
    "         markerfacecolor='red', markersize=10)\n",
    "plt.title('Error Rate vs. K Value')\n",
    "plt.xlabel('K')\n",
    "plt.ylabel('Error Rate')"
   ]
  },
  {
   "cell_type": "code",
   "execution_count": null,
   "metadata": {
    "collapsed": true
   },
   "outputs": [],
   "source": []
  },
  {
   "cell_type": "code",
   "execution_count": null,
   "metadata": {},
   "outputs": [],
   "source": []
  },
  {
   "cell_type": "code",
   "execution_count": null,
   "metadata": {
    "collapsed": true
   },
   "outputs": [],
   "source": []
  },
  {
   "cell_type": "code",
   "execution_count": 61,
   "metadata": {
    "collapsed": true
   },
   "outputs": [],
   "source": [
    "n_arr = arr_2d[2:4,6:9].copy()"
   ]
  },
  {
   "cell_type": "code",
   "execution_count": 56,
   "metadata": {
    "collapsed": true
   },
   "outputs": [],
   "source": [
    "n_arr = 99"
   ]
  },
  {
   "cell_type": "code",
   "execution_count": 62,
   "metadata": {},
   "outputs": [
    {
     "data": {
      "text/plain": [
       "array([[10, 10, 10],\n",
       "       [10, 10, 10]])"
      ]
     },
     "execution_count": 62,
     "metadata": {},
     "output_type": "execute_result"
    }
   ],
   "source": [
    "n_arr"
   ]
  },
  {
   "cell_type": "code",
   "execution_count": 63,
   "metadata": {
    "collapsed": true
   },
   "outputs": [],
   "source": [
    "n_arr[:] = 99"
   ]
  },
  {
   "cell_type": "code",
   "execution_count": 64,
   "metadata": {},
   "outputs": [
    {
     "data": {
      "text/plain": [
       "array([[99, 99, 99],\n",
       "       [99, 99, 99]])"
      ]
     },
     "execution_count": 64,
     "metadata": {},
     "output_type": "execute_result"
    }
   ],
   "source": [
    "n_arr"
   ]
  },
  {
   "cell_type": "code",
   "execution_count": 65,
   "metadata": {},
   "outputs": [
    {
     "data": {
      "text/plain": [
       "array([[ 0,  1,  2,  3,  4,  5,  6,  7,  8,  9],\n",
       "       [10, 11, 12, 13, 14, 15, 16, 17, 18, 19],\n",
       "       [20, 21, 22, 23, 24, 25, 10, 10, 10, 29],\n",
       "       [30, 31, 32, 33, 34, 35, 10, 10, 10, 39],\n",
       "       [40, 41, 42, 43, 44, 45, 46, 47, 48, 49]])"
      ]
     },
     "execution_count": 65,
     "metadata": {},
     "output_type": "execute_result"
    }
   ],
   "source": [
    "arr_2d"
   ]
  },
  {
   "cell_type": "code",
   "execution_count": 66,
   "metadata": {
    "collapsed": true
   },
   "outputs": [],
   "source": [
    "import numpy as np"
   ]
  },
  {
   "cell_type": "code",
   "execution_count": 67,
   "metadata": {
    "collapsed": true
   },
   "outputs": [],
   "source": [
    "arr = np.arange(0,11)"
   ]
  },
  {
   "cell_type": "code",
   "execution_count": 68,
   "metadata": {},
   "outputs": [
    {
     "data": {
      "text/plain": [
       "array([ 0,  1,  2,  3,  4,  5,  6,  7,  8,  9, 10])"
      ]
     },
     "execution_count": 68,
     "metadata": {},
     "output_type": "execute_result"
    }
   ],
   "source": [
    "arr"
   ]
  },
  {
   "cell_type": "code",
   "execution_count": 69,
   "metadata": {},
   "outputs": [
    {
     "data": {
      "text/plain": [
       "array([ 0,  2,  4,  6,  8, 10, 12, 14, 16, 18, 20])"
      ]
     },
     "execution_count": 69,
     "metadata": {},
     "output_type": "execute_result"
    }
   ],
   "source": [
    "arr + arr"
   ]
  },
  {
   "cell_type": "code",
   "execution_count": 70,
   "metadata": {},
   "outputs": [
    {
     "data": {
      "text/plain": [
       "array([ 0,  1,  2,  3,  4,  5,  6,  7,  8,  9, 10])"
      ]
     },
     "execution_count": 70,
     "metadata": {},
     "output_type": "execute_result"
    }
   ],
   "source": [
    "arr"
   ]
  },
  {
   "cell_type": "code",
   "execution_count": 71,
   "metadata": {},
   "outputs": [
    {
     "data": {
      "text/plain": [
       "array([  0,   1,   4,   9,  16,  25,  36,  49,  64,  81, 100])"
      ]
     },
     "execution_count": 71,
     "metadata": {},
     "output_type": "execute_result"
    }
   ],
   "source": [
    "arr*arr"
   ]
  },
  {
   "cell_type": "code",
   "execution_count": 72,
   "metadata": {},
   "outputs": [
    {
     "data": {
      "text/plain": [
       "array([-2, -1,  0,  1,  2,  3,  4,  5,  6,  7,  8])"
      ]
     },
     "execution_count": 72,
     "metadata": {},
     "output_type": "execute_result"
    }
   ],
   "source": [
    "arr - 2"
   ]
  },
  {
   "cell_type": "code",
   "execution_count": 73,
   "metadata": {},
   "outputs": [
    {
     "data": {
      "text/plain": [
       "array([ 1,  2,  3,  4,  5,  6,  7,  8,  9, 10, 11])"
      ]
     },
     "execution_count": 73,
     "metadata": {},
     "output_type": "execute_result"
    }
   ],
   "source": [
    "1 + arr"
   ]
  },
  {
   "cell_type": "code",
   "execution_count": 74,
   "metadata": {},
   "outputs": [
    {
     "ename": "ZeroDivisionError",
     "evalue": "division by zero",
     "output_type": "error",
     "traceback": [
      "\u001b[0;31m---------------------------------------------------------------------------\u001b[0m",
      "\u001b[0;31mZeroDivisionError\u001b[0m                         Traceback (most recent call last)",
      "\u001b[0;32m<ipython-input-74-05c9758a9c21>\u001b[0m in \u001b[0;36m<module>\u001b[0;34m()\u001b[0m\n\u001b[0;32m----> 1\u001b[0;31m \u001b[0;36m1\u001b[0m\u001b[0;34m/\u001b[0m\u001b[0;36m0\u001b[0m\u001b[0;34m\u001b[0m\u001b[0m\n\u001b[0m",
      "\u001b[0;31mZeroDivisionError\u001b[0m: division by zero"
     ]
    }
   ],
   "source": [
    "1/0"
   ]
  },
  {
   "cell_type": "code",
   "execution_count": 75,
   "metadata": {},
   "outputs": [
    {
     "name": "stderr",
     "output_type": "stream",
     "text": [
      "/Users/Manny/anaconda/lib/python3.6/site-packages/ipykernel_launcher.py:1: RuntimeWarning: invalid value encountered in true_divide\n",
      "  \"\"\"Entry point for launching an IPython kernel.\n"
     ]
    },
    {
     "data": {
      "text/plain": [
       "array([ nan,   1.,   1.,   1.,   1.,   1.,   1.,   1.,   1.,   1.,   1.])"
      ]
     },
     "execution_count": 75,
     "metadata": {},
     "output_type": "execute_result"
    }
   ],
   "source": [
    "arr/arr"
   ]
  },
  {
   "cell_type": "code",
   "execution_count": 76,
   "metadata": {},
   "outputs": [
    {
     "ename": "ZeroDivisionError",
     "evalue": "division by zero",
     "output_type": "error",
     "traceback": [
      "\u001b[0;31m---------------------------------------------------------------------------\u001b[0m",
      "\u001b[0;31mZeroDivisionError\u001b[0m                         Traceback (most recent call last)",
      "\u001b[0;32m<ipython-input-76-6549dea6d1ae>\u001b[0m in \u001b[0;36m<module>\u001b[0;34m()\u001b[0m\n\u001b[0;32m----> 1\u001b[0;31m \u001b[0;36m0\u001b[0m\u001b[0;34m/\u001b[0m\u001b[0;36m0\u001b[0m\u001b[0;34m\u001b[0m\u001b[0m\n\u001b[0m",
      "\u001b[0;31mZeroDivisionError\u001b[0m: division by zero"
     ]
    }
   ],
   "source": [
    "0/0"
   ]
  },
  {
   "cell_type": "code",
   "execution_count": 77,
   "metadata": {},
   "outputs": [
    {
     "ename": "ZeroDivisionError",
     "evalue": "division by zero",
     "output_type": "error",
     "traceback": [
      "\u001b[0;31m---------------------------------------------------------------------------\u001b[0m",
      "\u001b[0;31mZeroDivisionError\u001b[0m                         Traceback (most recent call last)",
      "\u001b[0;32m<ipython-input-77-05c9758a9c21>\u001b[0m in \u001b[0;36m<module>\u001b[0;34m()\u001b[0m\n\u001b[0;32m----> 1\u001b[0;31m \u001b[0;36m1\u001b[0m\u001b[0;34m/\u001b[0m\u001b[0;36m0\u001b[0m\u001b[0;34m\u001b[0m\u001b[0m\n\u001b[0m",
      "\u001b[0;31mZeroDivisionError\u001b[0m: division by zero"
     ]
    }
   ],
   "source": [
    "1/0"
   ]
  },
  {
   "cell_type": "code",
   "execution_count": 78,
   "metadata": {},
   "outputs": [
    {
     "name": "stderr",
     "output_type": "stream",
     "text": [
      "/Users/Manny/anaconda/lib/python3.6/site-packages/ipykernel_launcher.py:1: RuntimeWarning: divide by zero encountered in true_divide\n",
      "  \"\"\"Entry point for launching an IPython kernel.\n"
     ]
    },
    {
     "data": {
      "text/plain": [
       "array([        inf,  1.        ,  0.5       ,  0.33333333,  0.25      ,\n",
       "        0.2       ,  0.16666667,  0.14285714,  0.125     ,  0.11111111,\n",
       "        0.1       ])"
      ]
     },
     "execution_count": 78,
     "metadata": {},
     "output_type": "execute_result"
    }
   ],
   "source": [
    "1/arr"
   ]
  },
  {
   "cell_type": "code",
   "execution_count": 79,
   "metadata": {},
   "outputs": [
    {
     "data": {
      "text/plain": [
       "array([  0,   1,   4,   9,  16,  25,  36,  49,  64,  81, 100])"
      ]
     },
     "execution_count": 79,
     "metadata": {},
     "output_type": "execute_result"
    }
   ],
   "source": [
    "arr ** 2"
   ]
  },
  {
   "cell_type": "code",
   "execution_count": 80,
   "metadata": {},
   "outputs": [
    {
     "data": {
      "text/plain": [
       "array([ 0.        ,  1.        ,  1.41421356,  1.73205081,  2.        ,\n",
       "        2.23606798,  2.44948974,  2.64575131,  2.82842712,  3.        ,\n",
       "        3.16227766])"
      ]
     },
     "execution_count": 80,
     "metadata": {},
     "output_type": "execute_result"
    }
   ],
   "source": [
    "np.sqrt(arr)"
   ]
  },
  {
   "cell_type": "code",
   "execution_count": 81,
   "metadata": {},
   "outputs": [
    {
     "data": {
      "text/plain": [
       "10"
      ]
     },
     "execution_count": 81,
     "metadata": {},
     "output_type": "execute_result"
    }
   ],
   "source": [
    "np.max(arr)"
   ]
  },
  {
   "cell_type": "code",
   "execution_count": 82,
   "metadata": {},
   "outputs": [
    {
     "data": {
      "text/plain": [
       "array([ 0.        ,  0.84147098,  0.90929743,  0.14112001, -0.7568025 ,\n",
       "       -0.95892427, -0.2794155 ,  0.6569866 ,  0.98935825,  0.41211849,\n",
       "       -0.54402111])"
      ]
     },
     "execution_count": 82,
     "metadata": {},
     "output_type": "execute_result"
    }
   ],
   "source": [
    "np.sin(arr)"
   ]
  },
  {
   "cell_type": "code",
   "execution_count": 83,
   "metadata": {},
   "outputs": [
    {
     "name": "stderr",
     "output_type": "stream",
     "text": [
      "/Users/Manny/anaconda/lib/python3.6/site-packages/ipykernel_launcher.py:1: RuntimeWarning: divide by zero encountered in log\n",
      "  \"\"\"Entry point for launching an IPython kernel.\n"
     ]
    },
    {
     "data": {
      "text/plain": [
       "array([       -inf,  0.        ,  0.69314718,  1.09861229,  1.38629436,\n",
       "        1.60943791,  1.79175947,  1.94591015,  2.07944154,  2.19722458,\n",
       "        2.30258509])"
      ]
     },
     "execution_count": 83,
     "metadata": {},
     "output_type": "execute_result"
    }
   ],
   "source": [
    "np.log(arr)"
   ]
  },
  {
   "cell_type": "code",
   "execution_count": null,
   "metadata": {
    "collapsed": true
   },
   "outputs": [],
   "source": []
  }
 ],
 "metadata": {
  "kernelspec": {
   "display_name": "Python 2",
   "language": "python",
   "name": "python2"
  },
  "language_info": {
   "codemirror_mode": {
    "name": "ipython",
    "version": 2
   },
   "file_extension": ".py",
   "mimetype": "text/x-python",
   "name": "python",
   "nbconvert_exporter": "python",
   "pygments_lexer": "ipython2",
   "version": "2.7.13"
  }
 },
 "nbformat": 4,
 "nbformat_minor": 2
}
